{
 "cells": [
  {
   "cell_type": "markdown",
   "id": "86212fb2",
   "metadata": {},
   "source": [
    "# print the welcome message\n",
    "\n"
   ]
  },
  {
   "cell_type": "code",
   "execution_count": 7,
   "id": "96d3d7a7",
   "metadata": {},
   "outputs": [
    {
     "name": "stdout",
     "output_type": "stream",
     "text": [
      " welcome to the mini project\n"
     ]
    }
   ],
   "source": [
    "print(\" welcome to the mini project\")"
   ]
  },
  {
   "cell_type": "markdown",
   "id": "65a36e71",
   "metadata": {},
   "source": [
    "# Get the user inputs"
   ]
  },
  {
   "cell_type": "code",
   "execution_count": 33,
   "id": "ed315638",
   "metadata": {},
   "outputs": [
    {
     "name": "stdout",
     "output_type": "stream",
     "text": [
      "please enter the message bfhebuyefhiuhhhhiuhiuehepieuhuzzzzzzzzzzzzzzzzzz\n",
      "please enter your letter z\n"
     ]
    }
   ],
   "source": [
    "user_message = input(\"please enter the message \")\n",
    "user_letter = input(\"please enter your letter \")"
   ]
  },
  {
   "cell_type": "markdown",
   "id": "9a78fec8",
   "metadata": {},
   "source": [
    "\n",
    "\n",
    "\n",
    "\n",
    "# Count the occurence "
   ]
  },
  {
   "cell_type": "code",
   "execution_count": 34,
   "id": "63ff1273",
   "metadata": {},
   "outputs": [],
   "source": [
    "Required_count = user_message.count(user_letter)"
   ]
  },
  {
   "cell_type": "markdown",
   "id": "f609137c",
   "metadata": {},
   "source": [
    "\n",
    "# Percentage"
   ]
  },
  {
   "cell_type": "code",
   "execution_count": 35,
   "id": "3368e177",
   "metadata": {},
   "outputs": [],
   "source": [
    "per = Required_count/len(user_message)*100"
   ]
  },
  {
   "cell_type": "markdown",
   "id": "0594d5ec",
   "metadata": {},
   "source": [
    "\n",
    "\n",
    "# Printing "
   ]
  },
  {
   "cell_type": "code",
   "execution_count": 36,
   "id": "42ef2b74",
   "metadata": {},
   "outputs": [
    {
     "name": "stdout",
     "output_type": "stream",
     "text": [
      "The count of the letter z is 18\n"
     ]
    }
   ],
   "source": [
    "print( \"The count of the letter\", user_letter , \"is\" , Required_count)"
   ]
  },
  {
   "cell_type": "code",
   "execution_count": null,
   "id": "b06710dc",
   "metadata": {},
   "outputs": [],
   "source": []
  }
 ],
 "metadata": {
  "kernelspec": {
   "display_name": "Python 3 (ipykernel)",
   "language": "python",
   "name": "python3"
  },
  "language_info": {
   "codemirror_mode": {
    "name": "ipython",
    "version": 3
   },
   "file_extension": ".py",
   "mimetype": "text/x-python",
   "name": "python",
   "nbconvert_exporter": "python",
   "pygments_lexer": "ipython3",
   "version": "3.9.12"
  }
 },
 "nbformat": 4,
 "nbformat_minor": 5
}
